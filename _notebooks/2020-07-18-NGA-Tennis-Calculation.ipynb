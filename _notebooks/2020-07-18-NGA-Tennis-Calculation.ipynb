{
 "cells": [
  {
   "cell_type": "markdown",
   "metadata": {},
   "source": [
    "# \"NGA Tennis Financial Calculations\"\n",
    "> \"Quick calculation shows that closing the tennis courts will not help in the financial deficit, if there is one.\"\n",
    "\n",
    "- toc: true\n",
    "- branch: master\n",
    "- badges: true\n",
    "- comments: true\n",
    "- categories: [fastpages, jupyter, nga, tennis, financial]\n",
    "- hide: false\n",
    "- search_exclude: true\n",
    "- metadata_key1: metadata_value1\n",
    "- metadata_key2: metadata_value2"
   ]
  },
  {
   "cell_type": "markdown",
   "metadata": {},
   "source": [
    "## Overview\n",
    "NGA released a follow-up circular regarding the NGA Tennis Court Conversion topic with financial information. However, NGA has neglected to show the expected \"financial deficit\" that \"is clearly forthcoming.\" Therefore, this is our attempt to calculate that financial deficit.\n",
    "\n",
    "According to the limited information given, it does not show that the conversion of the tennis court will help in the financial status significantly. By cutting off the expenses of the tennis court, there will be an increase of around 0.2% in cash balance per annum. Furthermore, current estimates show that NGA cash balance will still stay positive."
   ]
  },
  {
   "cell_type": "markdown",
   "metadata": {},
   "source": [
    "## Methodology\n",
    "1. Calculate the ratio of expenses of same period pre quarantine and during quarantine.\n",
    "2. Calculate the estimated yearly expense of during quarantine using the ratio calculated in step 1\n",
    "3. Calculate the estimated yearly total collection of during quarantine period\n",
    "4. Calculate the estimated yearly loss by maintaining tennis court\n",
    "5. Calculate the estimated yearly cash balance during quarantine by finding the difference between step 2 and step 3\n",
    "6. Calculate the percentage component of step 4 to step 5"
   ]
  },
  {
   "cell_type": "markdown",
   "metadata": {},
   "source": [
    "## Data Prep: NGA Financial Data\n",
    "In the circular dated 18 July 2020, NGA shared unaudited revenue summary. We will be using these information:\n",
    "1. Membership Dues (same for 2019 and 2020)\n",
    "2. Tennis Collection (past 5 years)\n",
    "3. Tennis Expenses (past 5 years)\n",
    "4. Same period expenses (Jan-June 2019 and 2020)\n",
    "5. Same period collection (Jan-June 2019 and 2020)\n",
    "\n",
    "Also in the same circular, NGA has provided additional insights that are useful:\n",
    "1. The present Homeowners Association Dues covers ONLY about 25% on an average of our total yearly expenses.\n",
    "2. NGA has already collected an estimate of 90% of this Year 2020 revenues as of this writing.\n",
    "\n",
    "This section will prepare the data to be used in the calculation based on the statements above."
   ]
  },
  {
   "cell_type": "code",
   "execution_count": 1,
   "metadata": {
    "ExecuteTime": {
     "end_time": "2020-07-18T09:43:41.064799Z",
     "start_time": "2020-07-18T09:43:41.050880Z"
    }
   },
   "outputs": [],
   "source": [
    "# Data Prep: Financial Information\n",
    "mem_dues = {\n",
    "    '2019': 8152483.9\n",
    "}\n",
    "mem_dues['2020'] = mem_dues['2019']\n",
    "\n",
    "tennis = {\n",
    "    'expense': 2297120,\n",
    "    'collection': 1930940.25\n",
    "}\n",
    "\n",
    "same_period_expense = {\n",
    "    '2019': 19037930.42,\n",
    "    '2020': 12928366.14\n",
    "}\n",
    "\n",
    "same_period_collection = {\n",
    "    '2019': 33782575.40,\n",
    "    '2020': 22844454.50\n",
    "}\n",
    "\n",
    "# Other constants\n",
    "mem_dues_perc = 0.25\n",
    "collection_rate = 0.9\n",
    "tennis_years = 5"
   ]
  },
  {
   "cell_type": "markdown",
   "metadata": {},
   "source": [
    "## Calculations\n",
    "This section is to calculate the values listed in 1.2 Methodology"
   ]
  },
  {
   "cell_type": "markdown",
   "metadata": {},
   "source": [
    "### Estimated Yearly Expenses: Pre Quarantine vs During Quarantine"
   ]
  },
  {
   "cell_type": "code",
   "execution_count": 2,
   "metadata": {
    "ExecuteTime": {
     "end_time": "2020-07-18T09:43:42.858050Z",
     "start_time": "2020-07-18T09:43:42.847370Z"
    }
   },
   "outputs": [],
   "source": [
    "# Calculate estimated yearly expenses by using mem_dues_perc for 2019\n",
    "est_year_expense = {}\n",
    "est_year_expense['2019'] = mem_dues['2019']/mem_dues_perc\n",
    "\n",
    "# Calculate estimated yearly expenses for quarantine\n",
    "ratio_same_period_expense = same_period_expense['2020']/same_period_expense['2019']\n",
    "est_year_expense['2020'] = est_year_expense['2019']*ratio_same_period_expense"
   ]
  },
  {
   "cell_type": "markdown",
   "metadata": {},
   "source": [
    "### Estimated Collection: Quarantine"
   ]
  },
  {
   "cell_type": "code",
   "execution_count": 4,
   "metadata": {
    "ExecuteTime": {
     "end_time": "2020-07-18T09:43:46.870261Z",
     "start_time": "2020-07-18T09:43:46.860971Z"
    }
   },
   "outputs": [],
   "source": [
    "# Use collection_rate to project total collection of 2020\n",
    "est_total_collection = {}\n",
    "est_total_collection['2020'] = same_period_collection['2020'] / collection_rate"
   ]
  },
  {
   "cell_type": "markdown",
   "metadata": {},
   "source": [
    "### Tennis Calculations"
   ]
  },
  {
   "cell_type": "code",
   "execution_count": 5,
   "metadata": {
    "ExecuteTime": {
     "end_time": "2020-07-18T09:43:47.393394Z",
     "start_time": "2020-07-18T09:43:47.387388Z"
    }
   },
   "outputs": [],
   "source": [
    "# Estimate yearly loss by averaging the delta of collection and expense over 5 years\n",
    "tennis_ave_yearly_delta = (tennis['collection'] - tennis['expense'])/tennis_years"
   ]
  },
  {
   "cell_type": "markdown",
   "metadata": {},
   "source": [
    "### Estimated Yearly Cash Balance: During Quarantine"
   ]
  },
  {
   "cell_type": "code",
   "execution_count": 6,
   "metadata": {
    "ExecuteTime": {
     "end_time": "2020-07-18T09:43:47.826045Z",
     "start_time": "2020-07-18T09:43:47.819555Z"
    }
   },
   "outputs": [],
   "source": [
    "# Project yearly cash balance for quarantine period\n",
    "est_yearly_cash_balance = est_total_collection['2020'] - est_year_expense['2020']"
   ]
  },
  {
   "cell_type": "markdown",
   "metadata": {},
   "source": [
    "### Estimate Percentage of Tennis to Total Cash"
   ]
  },
  {
   "cell_type": "code",
   "execution_count": 7,
   "metadata": {
    "ExecuteTime": {
     "end_time": "2020-07-18T09:43:48.252307Z",
     "start_time": "2020-07-18T09:43:48.245277Z"
    }
   },
   "outputs": [],
   "source": [
    "est_tennis_percentage = tennis_ave_yearly_delta / est_yearly_cash_balance"
   ]
  },
  {
   "cell_type": "markdown",
   "metadata": {},
   "source": [
    "## Results"
   ]
  },
  {
   "cell_type": "code",
   "execution_count": 14,
   "metadata": {
    "ExecuteTime": {
     "end_time": "2020-07-18T09:47:03.063371Z",
     "start_time": "2020-07-18T09:47:03.055877Z"
    }
   },
   "outputs": [],
   "source": [
    "# String formatting\n",
    "result_values = [\n",
    "    '{:,.2f}'.format(abs(tennis_ave_yearly_delta)),\n",
    "    '{:,.2f}'.format(abs(est_year_expense['2020'])),\n",
    "    '{:,.2f}'.format(est_total_collection['2020']),\n",
    "    '{:,.2f}'.format(abs(est_tennis_percentage))\n",
    "]"
   ]
  },
  {
   "cell_type": "markdown",
   "metadata": {
    "variables": {
     " result_values[0] ": "73,235.95",
     " result_values[1] ": "22,144,906.40",
     " result_values[2] ": "25,382,727.22",
     " result_values[3] ": "0.02"
    }
   },
   "source": [
    "By removing tennis courts, NGA will save around **{{ result_values[0] }} php** per year.  \n",
    "The estimated yearly expenses amount to **{{ result_values[1] }} php** per year during quarantine.  \n",
    "The estimated yearly collection amount to **{{ result_values[2] }} php**.  \n",
    "Therefore, estimated yearly collection is projected to be **higher** than estimated yearly expenses.  \n",
    "If we remove the tennis court, then the cash balance would increase by about **{{ result_values[3] }}** per annum"
   ]
  }
 ],
 "metadata": {
  "kernelspec": {
   "display_name": "Python 3",
   "language": "python",
   "name": "python3"
  },
  "language_info": {
   "codemirror_mode": {
    "name": "ipython",
    "version": 3
   },
   "file_extension": ".py",
   "mimetype": "text/x-python",
   "name": "python",
   "nbconvert_exporter": "python",
   "pygments_lexer": "ipython3",
   "version": "3.7.2"
  },
  "toc": {
   "base_numbering": 1,
   "nav_menu": {},
   "number_sections": true,
   "sideBar": true,
   "skip_h1_title": false,
   "title_cell": "Table of Contents",
   "title_sidebar": "Contents",
   "toc_cell": false,
   "toc_position": {},
   "toc_section_display": true,
   "toc_window_display": false
  }
 },
 "nbformat": 4,
 "nbformat_minor": 4
}
